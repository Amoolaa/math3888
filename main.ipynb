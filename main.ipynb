{
 "cells": [
  {
   "cell_type": "code",
   "execution_count": 1,
   "metadata": {},
   "outputs": [],
   "source": [
    "import networkx as nx\n",
    "import pandas as pd"
   ]
  },
  {
   "cell_type": "code",
   "execution_count": 2,
   "metadata": {},
   "outputs": [],
   "source": [
    "f = open(\"data/id_symbol.txt\", \"r\")\n",
    "\n",
    "id_to_symbol = {}\n",
    "\n",
    "for line in f.readlines():\n",
    "  id, symbol = line.split(\" \")\n",
    "  id_to_symbol[id] = symbol.strip()\n",
    "\n",
    "f.close()"
   ]
  },
  {
   "cell_type": "code",
   "execution_count": 3,
   "metadata": {},
   "outputs": [],
   "source": [
    "disease_protein_df = pd.read_csv(\"data/disease_protein.csv\", sep=\":\")\n",
    "\n",
    "disease_proteins = []\n",
    "\n",
    "for id in disease_protein_df.iloc[15][\"proteins\"].split(\"/\"):\n",
    "  disease_proteins.append(id_to_symbol[id])"
   ]
  },
  {
   "cell_type": "code",
   "execution_count": 4,
   "metadata": {},
   "outputs": [],
   "source": [
    "G = nx.read_edgelist(\"data/ppin.txt\",comments=\"#\",nodetype=str)"
   ]
  },
  {
   "cell_type": "code",
   "execution_count": 5,
   "metadata": {},
   "outputs": [],
   "source": [
    "GC = G.subgraph(max(nx.connected_components(G), key=len)).copy()"
   ]
  },
  {
   "cell_type": "code",
   "execution_count": 6,
   "metadata": {},
   "outputs": [
    {
     "name": "stdout",
     "output_type": "stream",
     "text": [
      "40\n"
     ]
    }
   ],
   "source": [
    "seeds = []\n",
    "\n",
    "for prot in disease_proteins:\n",
    "  if prot in GC:\n",
    "    seeds.append(prot)\n",
    "\n",
    "print(len(seeds))"
   ]
  },
  {
   "cell_type": "code",
   "execution_count": 24,
   "metadata": {},
   "outputs": [],
   "source": [
    "import utils"
   ]
  },
  {
   "cell_type": "code",
   "execution_count": 176,
   "metadata": {},
   "outputs": [],
   "source": [
    "N = GC.number_of_nodes()\n",
    "s0 = len(seeds)\n",
    "\n",
    "p = {}\n",
    "\n",
    "for node in GC.nodes():\n",
    "\n",
    "  # Find number of links to seeds\n",
    "  ks = 0\n",
    "  for neighbour in GC.neighbors(node):\n",
    "    if neighbour in seeds:\n",
    "      ks += 1\n",
    "  \n",
    "  p[node] = utils.pvalue(ks, GC.degree(node), N, s0)"
   ]
  },
  {
   "cell_type": "code",
   "execution_count": 177,
   "metadata": {},
   "outputs": [],
   "source": [
    "import pcst_fast"
   ]
  },
  {
   "cell_type": "code",
   "execution_count": 286,
   "metadata": {},
   "outputs": [],
   "source": [
    "node_id = {node: i for i, node in enumerate(GC.nodes)}\n",
    "id_node = {v: k for k, v in node_id.items()}\n",
    "edge_id = [(node_id[u], node_id[v]) for u, v in GC.edges]\n",
    "prizes = []\n",
    "for node in GC.nodes():\n",
    "  if node in seeds:\n",
    "    prizes.append(10)\n",
    "  else:\n",
    "    prizes.append(0.1)\n",
    "edge_cost = [1 for i in range(GC.number_of_edges())]"
   ]
  },
  {
   "cell_type": "code",
   "execution_count": 287,
   "metadata": {},
   "outputs": [],
   "source": [
    "counts = {}\n",
    "for seed in seeds:\n",
    "  root = node_id[seed]\n",
    "  vertices, edges = pcst_fast.pcst_fast(edge_id, prizes, edge_cost, root, 1, \"gw\", 0)\n",
    "  for v in vertices:\n",
    "    if v in counts:\n",
    "      counts[v] += 1\n",
    "    else:\n",
    "      counts[v] = 1"
   ]
  },
  {
   "cell_type": "code",
   "execution_count": 288,
   "metadata": {},
   "outputs": [
    {
     "name": "stdout",
     "output_type": "stream",
     "text": [
      "45\n"
     ]
    }
   ],
   "source": [
    "t = 0.95\n",
    "\n",
    "final = [id_node[node] for node, count in counts.items() if count/len(seeds) >= t]\n",
    "print(len(final))"
   ]
  },
  {
   "cell_type": "code",
   "execution_count": 289,
   "metadata": {},
   "outputs": [
    {
     "name": "stdout",
     "output_type": "stream",
     "text": [
      "0.2646349919574831\n",
      "0.12077998250332189\n",
      "0.00013428870117501867\n",
      "0.004637497792813714\n",
      "0.0001827178115384471\n"
     ]
    }
   ],
   "source": [
    "for node in final:\n",
    "  if node not in seeds:\n",
    "    print(p[node])"
   ]
  }
 ],
 "metadata": {
  "kernelspec": {
   "display_name": "Python 3.9.12 ('base')",
   "language": "python",
   "name": "python3"
  },
  "language_info": {
   "codemirror_mode": {
    "name": "ipython",
    "version": 3
   },
   "file_extension": ".py",
   "mimetype": "text/x-python",
   "name": "python",
   "nbconvert_exporter": "python",
   "pygments_lexer": "ipython3",
   "version": "3.9.12"
  },
  "orig_nbformat": 4,
  "vscode": {
   "interpreter": {
    "hash": "604b94c5f01275e050c2c00b5ea4e6efa3f121665dac1e4e1c804cbe8201972f"
   }
  }
 },
 "nbformat": 4,
 "nbformat_minor": 2
}
